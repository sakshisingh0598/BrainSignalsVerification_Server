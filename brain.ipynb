{
 "cells": [
  {
   "cell_type": "code",
   "execution_count": 38,
   "id": "7de1a097",
   "metadata": {},
   "outputs": [],
   "source": [
    "from scipy.io import loadmat\n",
    "import numpy as np\n",
    "\n",
    "import sklearn as sk\n",
    "from sklearn.decomposition import PCA\n",
    "import matplotlib.pyplot as plt\n",
    "from matplotlib.pyplot import figure\n",
    "from sklearn.preprocessing import LabelEncoder\n",
    "from sklearn.preprocessing import StandardScaler\n",
    "from sklearn.linear_model import LogisticRegression\n",
    "from sklearn.model_selection import KFold\n",
    "from sklearn.neighbors import KNeighborsClassifier\n",
    "from sklearn.cluster import KMeans\n",
    "from sklearn.svm import LinearSVC\n",
    "from sklearn.model_selection import train_test_split\n",
    "from sklearn.metrics import accuracy_score"
   ]
  },
  {
   "cell_type": "code",
   "execution_count": 47,
   "id": "6d790fd8",
   "metadata": {},
   "outputs": [],
   "source": [
    "\n",
    "def plot_data(data,duration):\n",
    "    sampling_freq = 160.0\n",
    "    time = np.arange(0.0, duration, 1/sampling_freq)\n",
    "    plt.plot(time,data)\n",
    "\n",
    "def segment_data(input_data, seg_time=30):\n",
    "    # 30 seconds \n",
    "    segment_points = seg_time * 160 #sampling freq\n",
    "    splited_data =np.asarray(np.split(input_data.flatten(), segment_points)).T\n",
    "\n",
    "    return splited_data\n",
    "\n",
    "def form_data(input_data,attack_data):\n",
    "    segment_time = 30 #window = 30seconds\n",
    "    input_ = segment_data(input_data,segment_time)\n",
    "    attack_ = segment_data(attack_data,segment_time)\n",
    "\n",
    "    X = np.concatenate((input_,attack_))\n",
    "    Y = np.concatenate((np.zeros(input_.shape[0]),np.ones(attack_.shape[0]))) #normal = 0, attack = 1\n",
    "\n",
    "    return X,Y\n",
    "        \n",
    "    "
   ]
  },
  {
   "cell_type": "code",
   "execution_count": 48,
   "id": "cf8366c4",
   "metadata": {},
   "outputs": [
    {
     "ename": "IndentationError",
     "evalue": "expected an indented block (2842535591.py, line 8)",
     "output_type": "error",
     "traceback": [
      "\u001b[0;36m  File \u001b[0;32m\"/var/folders/_7/5zm9jlnx1jgdr2r3s_m_5x0m0000gn/T/ipykernel_5455/2842535591.py\"\u001b[0;36m, line \u001b[0;32m8\u001b[0m\n\u001b[0;31m    sampling_freq = 160.0\u001b[0m\n\u001b[0m                ^\u001b[0m\n\u001b[0;31mIndentationError\u001b[0m\u001b[0;31m:\u001b[0m expected an indented block\n"
     ]
    }
   ],
   "source": [
    "\n",
    "    \n",
    "    #sampling_freq = 160.0\n",
    "    \n",
    "def power_spectrum_plot(data, duration):\n",
    "    #https://www.adamsmith.haus/python/answers/how-to-plot-a-power-spectrum-in-python\n",
    "    #Plotting a power spectrum of data will plot how much of the data exists at a range of frequencies.\n",
    "    #The power spectrum is calculated as the square of the absolute value of the discrete Fourier transform\n",
    "    #time_stop = 120sec\n",
    "    sampling_freq = 160.0\n",
    "    time = np.arange(0.0, duration, 1/160) #(start, stop, step)\n",
    "\n",
    "    fourier_transform = np.fft.rfft(data)\n",
    "\n",
    "    abs_fourier_transform = np.abs(fourier_transform)\n",
    "\n",
    "    power_spectrum = np.square(abs_fourier_transform)\n",
    "\n",
    "    frequency = np.linspace(0, 160/2, len(power_spectrum))\n",
    "\n",
    "    plt.plot(frequency, power_spectrum)\n",
    "        "
   ]
  },
  {
   "cell_type": "code",
   "execution_count": 49,
   "id": "dbdcce7f",
   "metadata": {},
   "outputs": [],
   "source": [
    "\n",
    "    \n",
    "sampling_freq = 160.0\n",
    "\n",
    "def filter_band(data, duration):\n",
    "    #high pass and low pass filter        \n",
    "    sampling_freq = 160.0\n",
    "    time = np.arange(0.0, duration, 1/sampling_freq)\n",
    "    low_freq = 0.5 #0.1 Hz\n",
    "    high_freq = 2.0 #60 Hz\n",
    "\n",
    "    filter = signal.firwin(401, [low_freq, high_freq], pass_zero=False,fs=sampling_freq)\n",
    "\n",
    "    filtered_signal = signal.convolve(data, filter, mode='same')\n",
    "\n",
    "    plt.plot(time, filtered_signal)\n",
    "    "
   ]
  },
  {
   "cell_type": "code",
   "execution_count": 50,
   "id": "93e4f15d",
   "metadata": {},
   "outputs": [
    {
     "name": "stdout",
     "output_type": "stream",
     "text": [
      "Input data shape:  (106, 3, 19200)\n",
      "Attack data shape:  (6, 106, 3, 4800)\n",
      "(3180, 4800)\n",
      "(3180,)\n"
     ]
    }
   ],
   "source": [
    "\n",
    "from scipy.io import loadmat\n",
    "import numpy as np\n",
    "\n",
    "#Read data\n",
    "input_data = loadmat('Dataset1.mat') #dict_keys(['__header__', '__version__', '__globals__', 'Raw_Data', 'Sampling_Rate'])\n",
    "attack_data = loadmat('sampleAttack.mat')#dict_keys(['__header__', '__version__', '__globals__', 'attackVectors'])\n",
    "\n",
    "#loading data\n",
    "input_data = input_data['Raw_Data']\n",
    "attack_data = attack_data['attackVectors']\n",
    "\n",
    "#matrix of 106*3*19200 == > 106 subjects, 3 times of 2 min per subject, \n",
    "#160 Hz sampling rate. (19200 = 120 s * 160 hz) 160 samples per second\n",
    "print(\"Input data shape: \", input_data.shape)\n",
    "\n",
    "#matrix of 106*3*19200 == > 6 attack types | 106 subjects | 3 times | 30 sec per subject, \n",
    "#160 Hz sampling rate. (4800 = 30 s * 160 hz) 160 samples per second\n",
    "print(\"Attack data shape: \", attack_data.shape)\n",
    "\n",
    "#Combine all data \n",
    "X,Y = form_data(input_data,attack_data)\n",
    "\n",
    "print(X.shape)\n",
    "print(Y.shape)\n",
    "\n",
    "\n",
    "#Divide data into train and test\n",
    "from sklearn.model_selection import train_test_split\n",
    "X_train, X_test, y_train, y_test = train_test_split(X, Y, test_size=0.30, random_state=42)\n",
    "#Pass an int for reproducible output across multiple function calls\n",
    "    \n",
    "    \n",
    "    \n",
    "    \n",
    "    "
   ]
  },
  {
   "cell_type": "code",
   "execution_count": 52,
   "id": "e211a041",
   "metadata": {},
   "outputs": [],
   "source": [
    "def delta_band(data):\n",
    "    \n",
    "    #https://dsp.stackexchange.com/questions/45345/how-to-correctly-compute-the-eeg-frequency-bands-with-python\n",
    "    fs = 165  # Sampling rate\n",
    "    # Get frequencies for amplitudes in Hz\n",
    "    fft_freq = np.fft.rfftfreq(len(data), 1.0 / fs)\n",
    "    \"\"\"Delta Band Values\"\"\"\n",
    "    low_freq = 0\n",
    "    high_freq = 4\n",
    "\n",
    "    freqs = fft_freq[np.where((fft_freq >= low_freq) &   #np.where is like asking \"tell me where in this array, entries satisfy a given condition\".\n",
    "                       (fft_freq <= high_freq))]\n",
    "    return freqs"
   ]
  },
  {
   "cell_type": "code",
   "execution_count": 53,
   "id": "3eb9db1e",
   "metadata": {},
   "outputs": [],
   "source": [
    "def calc_bands_power(x, dt, bands):\n",
    "    from scipy.signal import welch\n",
    "    f, psd = welch(x, fs=1. / dt)\n",
    "    power = {band: np.mean(psd[np.where((f >= lf) & (f <= hf))]) for band, (lf, hf) in bands.items()}\n",
    "    return power"
   ]
  },
  {
   "cell_type": "code",
   "execution_count": 58,
   "id": "c00560b0",
   "metadata": {},
   "outputs": [
    {
     "data": {
      "text/plain": [
       "(3180, 4800)"
      ]
     },
     "execution_count": 58,
     "metadata": {},
     "output_type": "execute_result"
    }
   ],
   "source": [
    "X.shape"
   ]
  },
  {
   "cell_type": "code",
   "execution_count": 66,
   "id": "500721a8",
   "metadata": {},
   "outputs": [],
   "source": [
    "kk = delta_band(X[0])"
   ]
  },
  {
   "cell_type": "code",
   "execution_count": 67,
   "id": "2d18189d",
   "metadata": {},
   "outputs": [
    {
     "data": {
      "text/plain": [
       "(117,)"
      ]
     },
     "execution_count": 67,
     "metadata": {},
     "output_type": "execute_result"
    }
   ],
   "source": [
    "kk.shape"
   ]
  },
  {
   "cell_type": "code",
   "execution_count": 73,
   "id": "4f414359",
   "metadata": {},
   "outputs": [],
   "source": [
    "kk = np.array(list(map(delta_band, X)))"
   ]
  },
  {
   "cell_type": "code",
   "execution_count": 74,
   "id": "a6b6827a",
   "metadata": {},
   "outputs": [
    {
     "data": {
      "text/plain": [
       "(3180, 117)"
      ]
     },
     "execution_count": 74,
     "metadata": {},
     "output_type": "execute_result"
    }
   ],
   "source": [
    "kk.shape"
   ]
  },
  {
   "cell_type": "code",
   "execution_count": null,
   "id": "63192b18",
   "metadata": {},
   "outputs": [],
   "source": []
  }
 ],
 "metadata": {
  "kernelspec": {
   "display_name": "Python 3 (ipykernel)",
   "language": "python",
   "name": "python3"
  },
  "language_info": {
   "codemirror_mode": {
    "name": "ipython",
    "version": 3
   },
   "file_extension": ".py",
   "mimetype": "text/x-python",
   "name": "python",
   "nbconvert_exporter": "python",
   "pygments_lexer": "ipython3",
   "version": "3.7.0"
  }
 },
 "nbformat": 4,
 "nbformat_minor": 5
}
